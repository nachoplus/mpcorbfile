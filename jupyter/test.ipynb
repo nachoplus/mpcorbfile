{
 "cells": [
  {
   "cell_type": "code",
   "execution_count": 1,
   "metadata": {},
   "outputs": [
    {
     "ename": "ModuleNotFoundError",
     "evalue": "No module named 'mpcorbfile'",
     "output_type": "error",
     "traceback": [
      "\u001b[31m---------------------------------------------------------------------------\u001b[39m",
      "\u001b[31mModuleNotFoundError\u001b[39m                       Traceback (most recent call last)",
      "\u001b[36mCell\u001b[39m\u001b[36m \u001b[39m\u001b[32mIn[1]\u001b[39m\u001b[32m, line 1\u001b[39m\n\u001b[32m----> \u001b[39m\u001b[32m1\u001b[39m \u001b[38;5;28;01mimport\u001b[39;00m\u001b[38;5;250m \u001b[39m\u001b[34;01mmpcorbfile\u001b[39;00m\n",
      "\u001b[31mModuleNotFoundError\u001b[39m: No module named 'mpcorbfile'"
     ]
    }
   ],
   "source": [
    "import mpcorbfile"
   ]
  },
  {
   "cell_type": "code",
   "execution_count": null,
   "metadata": {},
   "outputs": [],
   "source": [
    "#Class to drive \n",
    "f=mpcorbfile.mpcorb_file()"
   ]
  },
  {
   "cell_type": "code",
   "execution_count": null,
   "metadata": {},
   "outputs": [],
   "source": [
    "\"\"\"\n",
    "CALCULATE DATES FROM COMPRESSED EPOCH\n",
    "Examples:\n",
    "\n",
    "        1996 Jan. 1    = J9611\n",
    "        1996 Jan. 10   = J961A\n",
    "        1996 Sept.30   = J969U\n",
    "        1996 Oct. 1    = J96A1\n",
    "        2001 Oct. 22   = K01AM\n",
    "\n",
    "        This system can be extended to dates with non-integral days. The decimal fraction of the day is simply appended to the five characters defined above.\n",
    "\n",
    "        Examples:\n",
    "\n",
    "        1998 Jan. 18.73     = J981I73\n",
    "        2001 Oct. 22.138303 = K01AM138303\n",
    "\"\"\"        \n",
    "for p in ['J9611','J961A','J969U','J96A1','K01AM']:\n",
    "        print(p,f.compressed_epoch_to_datetime(p))"
   ]
  },
  {
   "cell_type": "code",
   "execution_count": null,
   "metadata": {},
   "outputs": [],
   "source": [
    "#load MPCORB.DAT\n",
    "bodies=f.read('MPCORB_TEST.DAT')\n",
    "#bodies=f.read('MPCORB_TEST.DAT')"
   ]
  },
  {
   "cell_type": "code",
   "execution_count": null,
   "metadata": {},
   "outputs": [],
   "source": [
    "#Write new file\n",
    "f.write('new_mcorb.dat')"
   ]
  },
  {
   "cell_type": "code",
   "execution_count": null,
   "metadata": {},
   "outputs": [],
   "source": [
    "#Convert float strings to float\n",
    "#convert compressed epoch to epoch\n",
    "bodies=f.to_numeric()"
   ]
  },
  {
   "cell_type": "code",
   "execution_count": null,
   "metadata": {},
   "outputs": [],
   "source": [
    "import pandas as pd\n",
    "pd.DataFrame(bodies)"
   ]
  },
  {
   "cell_type": "code",
   "execution_count": null,
   "metadata": {},
   "outputs": [],
   "source": [
    "f.write_json('mpcorb.json')"
   ]
  }
 ],
 "metadata": {
  "kernelspec": {
   "display_name": "venv",
   "language": "python",
   "name": "python3"
  },
  "language_info": {
   "codemirror_mode": {
    "name": "ipython",
    "version": 3
   },
   "file_extension": ".py",
   "mimetype": "text/x-python",
   "name": "python",
   "nbconvert_exporter": "python",
   "pygments_lexer": "ipython3",
   "version": "3.12.3"
  }
 },
 "nbformat": 4,
 "nbformat_minor": 2
}
