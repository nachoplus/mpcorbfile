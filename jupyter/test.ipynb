{
 "cells": [
  {
   "cell_type": "markdown",
   "metadata": {},
   "source": [
    "# General testing"
   ]
  },
  {
   "cell_type": "code",
   "execution_count": 1,
   "metadata": {},
   "outputs": [],
   "source": [
    "import mpcorbfile"
   ]
  },
  {
   "cell_type": "code",
   "execution_count": 2,
   "metadata": {},
   "outputs": [],
   "source": [
    "# Class to drive\n",
    "f = mpcorbfile.mpcorb_file()"
   ]
  },
  {
   "cell_type": "code",
   "execution_count": 3,
   "metadata": {},
   "outputs": [
    {
     "name": "stdout",
     "output_type": "stream",
     "text": [
      "J9611 1996-01-01 00:00:00\n",
      "J961A 1996-01-10 00:00:00\n",
      "J969U 1996-09-30 00:00:00\n",
      "J96A1 1996-10-01 00:00:00\n",
      "K01AM 2001-10-22 00:00:00\n"
     ]
    }
   ],
   "source": [
    "\"\"\"\n",
    "CALCULATE DATES FROM COMPRESSED EPOCH\n",
    "Examples:\n",
    "\n",
    "        1996 Jan. 1    = J9611\n",
    "        1996 Jan. 10   = J961A\n",
    "        1996 Sept.30   = J969U\n",
    "        1996 Oct. 1    = J96A1\n",
    "        2001 Oct. 22   = K01AM\n",
    "\n",
    "        This system can be extended to dates with non-integral days. The decimal fraction of the day is simply appended to the five characters defined above.\n",
    "\n",
    "        Examples:\n",
    "\n",
    "        1998 Jan. 18.73     = J981I73\n",
    "        2001 Oct. 22.138303 = K01AM138303\n",
    "\"\"\"\n",
    "for p in [\"J9611\", \"J961A\", \"J969U\", \"J96A1\", \"K01AM\"]:\n",
    "    print(p, f.compressed_epoch_to_datetime(p))"
   ]
  },
  {
   "cell_type": "code",
   "execution_count": 4,
   "metadata": {},
   "outputs": [
    {
     "name": "stderr",
     "output_type": "stream",
     "text": [
      "reading: 100%|\u001b[32m██████████\u001b[0m| 13.2k/13.2k [00:00<00:00, 134k bodies/s]\n"
     ]
    },
    {
     "data": {
      "text/plain": [
       "['packed_designation',\n",
       " 'H',\n",
       " 'G',\n",
       " 'Epoch',\n",
       " 'M',\n",
       " 'Peri',\n",
       " 'Node',\n",
       " 'i',\n",
       " 'e',\n",
       " 'n',\n",
       " 'a',\n",
       " 'U',\n",
       " 'Ref',\n",
       " 'Num_obs',\n",
       " 'Num_opps',\n",
       " 'Arc_length',\n",
       " 'rms',\n",
       " 'Perturbers',\n",
       " 'Perturbers_2',\n",
       " 'Computer',\n",
       " 'Hex_flags',\n",
       " 'Number',\n",
       " 'Name',\n",
       " 'Last_obs',\n",
       " 'epochJD',\n",
       " 'designation',\n",
       " 'discover_date',\n",
       " 'orbit_type']"
      ]
     },
     "execution_count": 4,
     "metadata": {},
     "output_type": "execute_result"
    }
   ],
   "source": [
    "# load MPCORB.DAT\n",
    "bodies = f.read(\"MPCORB_TEST.DAT\")\n",
    "# bodies = f.read(\"MPCORB.DAT\")\n",
    "f.colnames"
   ]
  },
  {
   "cell_type": "code",
   "execution_count": 5,
   "metadata": {},
   "outputs": [
    {
     "data": {
      "text/plain": [
       "{'packed_designation': 'a7943',\n",
       " 'H': 24.19,\n",
       " 'G': 0.15,\n",
       " 'Epoch': datetime.datetime(2025, 5, 5, 0, 0),\n",
       " 'M': 184.7538,\n",
       " 'Peri': 195.63684,\n",
       " 'Node': 146.91033,\n",
       " 'i': 11.6102,\n",
       " 'e': 0.0894684,\n",
       " 'n': 1.13494811,\n",
       " 'a': 0.9102319,\n",
       " 'U': '2',\n",
       " 'Ref': 'E2024-JU2',\n",
       " 'Num_obs': 1055,\n",
       " 'Num_opps': 2,\n",
       " 'Arc_length': '2012-2013',\n",
       " 'rms': 0.36,\n",
       " 'Perturbers': 'M-v',\n",
       " 'Perturbers_2': '3Ek',\n",
       " 'Computer': 'Veres',\n",
       " 'Hex_flags': 2049,\n",
       " 'Number': '(367943)',\n",
       " 'Name': 'Duende',\n",
       " 'Last_obs': '20130221',\n",
       " 'epochJD': 2460800.5,\n",
       " 'designation': '367943',\n",
       " 'discover_date': nan,\n",
       " 'orbit_type': 'NEO;Athen'}"
      ]
     },
     "execution_count": 5,
     "metadata": {},
     "output_type": "execute_result"
    }
   ],
   "source": [
    "bodies[0]"
   ]
  },
  {
   "cell_type": "code",
   "execution_count": 6,
   "metadata": {},
   "outputs": [
    {
     "name": "stderr",
     "output_type": "stream",
     "text": [
      "writting: 100%|\u001b[34m██████████\u001b[0m| 13.2k/13.2k [00:00<00:00, 65.2k bodies/s]\n"
     ]
    },
    {
     "data": {
      "text/plain": [
       "True"
      ]
     },
     "execution_count": 6,
     "metadata": {},
     "output_type": "execute_result"
    }
   ],
   "source": [
    "# Write new file\n",
    "f.write(\"new_mcorb.dat\")"
   ]
  },
  {
   "cell_type": "code",
   "execution_count": 7,
   "metadata": {},
   "outputs": [
    {
     "data": {
      "text/html": [
       "<div>\n",
       "<style scoped>\n",
       "    .dataframe tbody tr th:only-of-type {\n",
       "        vertical-align: middle;\n",
       "    }\n",
       "\n",
       "    .dataframe tbody tr th {\n",
       "        vertical-align: top;\n",
       "    }\n",
       "\n",
       "    .dataframe thead th {\n",
       "        text-align: right;\n",
       "    }\n",
       "</style>\n",
       "<table border=\"1\" class=\"dataframe\">\n",
       "  <thead>\n",
       "    <tr style=\"text-align: right;\">\n",
       "      <th></th>\n",
       "      <th>packed_designation</th>\n",
       "      <th>H</th>\n",
       "      <th>G</th>\n",
       "      <th>Epoch</th>\n",
       "      <th>M</th>\n",
       "      <th>Peri</th>\n",
       "      <th>Node</th>\n",
       "      <th>i</th>\n",
       "      <th>e</th>\n",
       "      <th>n</th>\n",
       "      <th>...</th>\n",
       "      <th>Perturbers_2</th>\n",
       "      <th>Computer</th>\n",
       "      <th>Hex_flags</th>\n",
       "      <th>Number</th>\n",
       "      <th>Name</th>\n",
       "      <th>Last_obs</th>\n",
       "      <th>epochJD</th>\n",
       "      <th>designation</th>\n",
       "      <th>discover_date</th>\n",
       "      <th>orbit_type</th>\n",
       "    </tr>\n",
       "  </thead>\n",
       "  <tbody>\n",
       "    <tr>\n",
       "      <th>0</th>\n",
       "      <td>a7943</td>\n",
       "      <td>24.19</td>\n",
       "      <td>0.15</td>\n",
       "      <td>2025-05-05</td>\n",
       "      <td>184.75380</td>\n",
       "      <td>195.63684</td>\n",
       "      <td>146.91033</td>\n",
       "      <td>11.61020</td>\n",
       "      <td>0.089468</td>\n",
       "      <td>1.134948</td>\n",
       "      <td>...</td>\n",
       "      <td>3Ek</td>\n",
       "      <td>Veres</td>\n",
       "      <td>2049</td>\n",
       "      <td>(367943)</td>\n",
       "      <td>Duende</td>\n",
       "      <td>20130221</td>\n",
       "      <td>2460800.5</td>\n",
       "      <td>367943</td>\n",
       "      <td>NaN</td>\n",
       "      <td>NEO;Athen</td>\n",
       "    </tr>\n",
       "    <tr>\n",
       "      <th>1</th>\n",
       "      <td>00001</td>\n",
       "      <td>3.34</td>\n",
       "      <td>0.15</td>\n",
       "      <td>2025-05-05</td>\n",
       "      <td>188.70269</td>\n",
       "      <td>73.27343</td>\n",
       "      <td>80.25221</td>\n",
       "      <td>10.58780</td>\n",
       "      <td>0.079401</td>\n",
       "      <td>0.214247</td>\n",
       "      <td>...</td>\n",
       "      <td>30k</td>\n",
       "      <td>MPCLINUX</td>\n",
       "      <td>16384</td>\n",
       "      <td>(1)</td>\n",
       "      <td>Ceres</td>\n",
       "      <td>20241101</td>\n",
       "      <td>2460800.5</td>\n",
       "      <td>1</td>\n",
       "      <td>NaN</td>\n",
       "      <td>MB II</td>\n",
       "    </tr>\n",
       "    <tr>\n",
       "      <th>2</th>\n",
       "      <td>00002</td>\n",
       "      <td>4.11</td>\n",
       "      <td>0.15</td>\n",
       "      <td>2025-05-05</td>\n",
       "      <td>168.79870</td>\n",
       "      <td>310.91037</td>\n",
       "      <td>172.89530</td>\n",
       "      <td>34.92402</td>\n",
       "      <td>0.230540</td>\n",
       "      <td>0.213766</td>\n",
       "      <td>...</td>\n",
       "      <td>28k</td>\n",
       "      <td>Pan</td>\n",
       "      <td>16384</td>\n",
       "      <td>(2)</td>\n",
       "      <td>Pallas</td>\n",
       "      <td>20240927</td>\n",
       "      <td>2460800.5</td>\n",
       "      <td>2</td>\n",
       "      <td>NaN</td>\n",
       "      <td>MB II</td>\n",
       "    </tr>\n",
       "    <tr>\n",
       "      <th>3</th>\n",
       "      <td>00003</td>\n",
       "      <td>5.18</td>\n",
       "      <td>0.15</td>\n",
       "      <td>2025-05-05</td>\n",
       "      <td>172.45499</td>\n",
       "      <td>247.85972</td>\n",
       "      <td>169.82994</td>\n",
       "      <td>12.98651</td>\n",
       "      <td>0.255947</td>\n",
       "      <td>0.225826</td>\n",
       "      <td>...</td>\n",
       "      <td>3Ek</td>\n",
       "      <td>Pan</td>\n",
       "      <td>16384</td>\n",
       "      <td>(3)</td>\n",
       "      <td>Juno</td>\n",
       "      <td>20240607</td>\n",
       "      <td>2460800.5</td>\n",
       "      <td>3</td>\n",
       "      <td>NaN</td>\n",
       "      <td>MB II</td>\n",
       "    </tr>\n",
       "    <tr>\n",
       "      <th>4</th>\n",
       "      <td>00004</td>\n",
       "      <td>3.25</td>\n",
       "      <td>0.15</td>\n",
       "      <td>2025-05-05</td>\n",
       "      <td>332.45069</td>\n",
       "      <td>151.58335</td>\n",
       "      <td>103.70297</td>\n",
       "      <td>7.14394</td>\n",
       "      <td>0.090107</td>\n",
       "      <td>0.271613</td>\n",
       "      <td>...</td>\n",
       "      <td>18k</td>\n",
       "      <td>Pan</td>\n",
       "      <td>16384</td>\n",
       "      <td>(4)</td>\n",
       "      <td>Vesta</td>\n",
       "      <td>20240306</td>\n",
       "      <td>2460800.5</td>\n",
       "      <td>4</td>\n",
       "      <td>NaN</td>\n",
       "      <td>MB I</td>\n",
       "    </tr>\n",
       "  </tbody>\n",
       "</table>\n",
       "<p>5 rows × 28 columns</p>\n",
       "</div>"
      ],
      "text/plain": [
       "  packed_designation      H     G      Epoch          M       Peri       Node  \\\n",
       "0              a7943  24.19  0.15 2025-05-05  184.75380  195.63684  146.91033   \n",
       "1              00001   3.34  0.15 2025-05-05  188.70269   73.27343   80.25221   \n",
       "2              00002   4.11  0.15 2025-05-05  168.79870  310.91037  172.89530   \n",
       "3              00003   5.18  0.15 2025-05-05  172.45499  247.85972  169.82994   \n",
       "4              00004   3.25  0.15 2025-05-05  332.45069  151.58335  103.70297   \n",
       "\n",
       "          i         e         n  ...  Perturbers_2  Computer Hex_flags  \\\n",
       "0  11.61020  0.089468  1.134948  ...           3Ek     Veres      2049   \n",
       "1  10.58780  0.079401  0.214247  ...           30k  MPCLINUX     16384   \n",
       "2  34.92402  0.230540  0.213766  ...           28k       Pan     16384   \n",
       "3  12.98651  0.255947  0.225826  ...           3Ek       Pan     16384   \n",
       "4   7.14394  0.090107  0.271613  ...           18k       Pan     16384   \n",
       "\n",
       "     Number    Name  Last_obs    epochJD designation discover_date orbit_type  \n",
       "0  (367943)  Duende  20130221  2460800.5      367943           NaN  NEO;Athen  \n",
       "1       (1)   Ceres  20241101  2460800.5           1           NaN      MB II  \n",
       "2       (2)  Pallas  20240927  2460800.5           2           NaN      MB II  \n",
       "3       (3)    Juno  20240607  2460800.5           3           NaN      MB II  \n",
       "4       (4)   Vesta  20240306  2460800.5           4           NaN       MB I  \n",
       "\n",
       "[5 rows x 28 columns]"
      ]
     },
     "execution_count": 7,
     "metadata": {},
     "output_type": "execute_result"
    }
   ],
   "source": [
    "import pandas as pd\n",
    "\n",
    "df=pd.DataFrame(bodies)\n",
    "df.head()"
   ]
  },
  {
   "cell_type": "code",
   "execution_count": 8,
   "metadata": {},
   "outputs": [
    {
     "data": {
      "text/plain": [
       "<Axes: >"
      ]
     },
     "execution_count": 8,
     "metadata": {},
     "output_type": "execute_result"
    },
    {
     "data": {
      "image/png": "[encoded data removed]",
      "text/plain": [
       "<Figure size 640x480 with 1 Axes>"
      ]
     },
     "metadata": {},
     "output_type": "display_data"
    }
   ],
   "source": [
    "#Some plot to be used as a cover in documentation\n",
    "df.loc[0:50,['packed_designation','Peri','Node']].plot()"
   ]
  },
  {
   "cell_type": "markdown",
   "metadata": {},
   "source": [
    "## Test json support"
   ]
  },
  {
   "cell_type": "code",
   "execution_count": 9,
   "metadata": {},
   "outputs": [],
   "source": [
    "f.write_json(\"mpcorb.json\")"
   ]
  },
  {
   "cell_type": "code",
   "execution_count": 10,
   "metadata": {},
   "outputs": [],
   "source": [
    "for c in f.get_chunks(13):\n",
    "    c"
   ]
  },
  {
   "cell_type": "code",
   "execution_count": 11,
   "metadata": {},
   "outputs": [
    {
     "name": "stderr",
     "output_type": "stream",
     "text": [
      "100%|██████████| 7/7 [00:00<00:00, 157006.03it/s]\n"
     ]
    },
    {
     "data": {
      "text/plain": [
       "{'Critical_list_numbered_object_flag': 1,\n",
       " 'H': 3.34,\n",
       " 'G': 0.15,\n",
       " 'Num_obs': 7330,\n",
       " 'rms': 0.8,\n",
       " 'U': '0',\n",
       " 'Arc_years': '1801-2024',\n",
       " 'Perturbers': 'M-v',\n",
       " 'Perturbers_2': '30k',\n",
       " 'Number': '(1)',\n",
       " 'Name': 'Ceres',\n",
       " 'Principal_desig': 'A801 AA',\n",
       " 'Other_desigs': ['A899 OF', '1943 XB'],\n",
       " 'Epoch': datetime.date(2025, 5, 5),\n",
       " 'M': 188.70269,\n",
       " 'Peri': 73.27343,\n",
       " 'Node': 80.25221,\n",
       " 'i': 10.5878,\n",
       " 'e': 0.0794013,\n",
       " 'n': 0.21424651,\n",
       " 'a': 2.7660512,\n",
       " 'Ref': 'E2024-V47',\n",
       " 'Num_opps': 125,\n",
       " 'Computer': 'MPCLINUX',\n",
       " 'Hex_flags': 16384,\n",
       " 'Last_obs': '20241101',\n",
       " 'Tp': 2461600.03376,\n",
       " 'Orbital_period': 4.6003441,\n",
       " 'Perihelion_dist': 2.5464231,\n",
       " 'Aphelion_dist': 2.9856793,\n",
       " 'Semilatus_rectum': 1.3743062,\n",
       " 'Synodic_period': 1.2777512,\n",
       " 'Orbit_type': 'MBA',\n",
       " 'packed_designation': '00001',\n",
       " 'Arc_length': '1801-2024'}"
      ]
     },
     "execution_count": 11,
     "metadata": {},
     "output_type": "execute_result"
    }
   ],
   "source": [
    "# bodies1=f.read_json('mpcorb_extended.json')\n",
    "bodies1 = f.read_json(\"mpcorb_extended_test.json\")\n",
    "bodies1[0]"
   ]
  },
  {
   "cell_type": "code",
   "execution_count": 12,
   "metadata": {},
   "outputs": [
    {
     "name": "stderr",
     "output_type": "stream",
     "text": [
      "writting: 100%|\u001b[34m██████████\u001b[0m| 7.00/7.00 [00:00<00:00, 40.3k bodies/s]\n"
     ]
    },
    {
     "data": {
      "text/plain": [
       "True"
      ]
     },
     "execution_count": 12,
     "metadata": {},
     "output_type": "execute_result"
    }
   ],
   "source": [
    "f.write(\"new_mpcorb1.dat\")"
   ]
  },
  {
   "cell_type": "code",
   "execution_count": 13,
   "metadata": {},
   "outputs": [],
   "source": [
    "f.write_json(\"mpcorb1.json\")"
   ]
  },
  {
   "cell_type": "code",
   "execution_count": 14,
   "metadata": {},
   "outputs": [
    {
     "name": "stdout",
     "output_type": "stream",
     "text": [
      "K2555\n",
      "K2555\n",
      "K2555\n",
      "K2555\n",
      "K2555\n",
      "K2555\n",
      "K2555\n"
     ]
    }
   ],
   "source": [
    "for b in f.bodies:\n",
    "    print(f.datetime_compressed_epoch(b[\"Epoch\"]))"
   ]
  },
  {
   "cell_type": "code",
   "execution_count": 15,
   "metadata": {},
   "outputs": [
    {
     "name": "stdout",
     "output_type": "stream",
     "text": [
      "1995 XA \t J95X00A\n",
      "1995 XL1 \t J95X01L\n",
      "1995 FB13 \t J95F13B\n",
      "1998 SQ108 \t J98SA8Q\n",
      "1998 SV127 \t J98SC7V\n",
      "2099 AZ193 \t K99AJ3Z\n",
      "2007 TA418 \t K07Tf8A\n",
      "(98) \t 00098\n",
      "(100345) \t A0345\n",
      "(360017) \t a0017\n",
      "(203289) \t K3289\n"
     ]
    }
   ],
   "source": [
    "for d in [\n",
    "    \"1995 XA\",\n",
    "    \"1995 XL1\",\n",
    "    \"1995 FB13\",\n",
    "    \"1998 SQ108\",\n",
    "    \"1998 SV127\",\n",
    "    \"2099 AZ193\",\n",
    "    \"2007 TA418\",\n",
    "    \"(98)\",\n",
    "    \"(100345)\",\n",
    "    \"(360017)\",\n",
    "    \"(203289)\",\n",
    "]:\n",
    "    print(d, \"\\t\", f.pack_designation(d))"
   ]
  },
  {
   "cell_type": "code",
   "execution_count": 16,
   "metadata": {},
   "outputs": [
    {
     "name": "stdout",
     "output_type": "stream",
     "text": [
      "(3140113) ~AZaz\n",
      "(15396335) ~zzzz\n",
      "(620061) ~000z\n",
      "(620000) ~0000\n"
     ]
    }
   ],
   "source": [
    "for d in [\"(3140113)\", \"(15396335)\", \"(620061)\", \"(620000)\"]:\n",
    "    print(d, f.pack_designation(d))"
   ]
  },
  {
   "cell_type": "markdown",
   "metadata": {},
   "source": [
    "## Create new files from scratch"
   ]
  },
  {
   "cell_type": "code",
   "execution_count": 17,
   "metadata": {},
   "outputs": [
    {
     "name": "stderr",
     "output_type": "stream",
     "text": [
      "writting: 100%|\u001b[34m██████████\u001b[0m| 1.00/1.00 [00:00<00:00, 16.4k bodies/s]\n"
     ]
    },
    {
     "data": {
      "text/plain": [
       "True"
      ]
     },
     "execution_count": 17,
     "metadata": {},
     "output_type": "execute_result"
    }
   ],
   "source": [
    "import datetime\n",
    "\n",
    "mpc = mpcorbfile.mpcorb_file()\n",
    "Name = \"2026 AA1\"\n",
    "epoch = datetime.datetime(2026, 1, 1)\n",
    "packed_designation = mpc.pack_designation(Name)\n",
    "body = {\n",
    "    \"packed_designation\": packed_designation,\n",
    "    \"H\": 3.2,\n",
    "    \"G\": 0.15,\n",
    "    \"Epoch\": epoch,\n",
    "    \"M\": 0.0,\n",
    "    \"Peri\": 0.0,\n",
    "    \"Node\": 0.0,\n",
    "    \"i\": 0.0,\n",
    "    \"e\": 0.0,\n",
    "    \"n\": 0.0,\n",
    "    \"a\": 0.0,\n",
    "    \"U\": 0.0,\n",
    "    \"Ref\": \"MPC 12345\",\n",
    "    \"Num\": 12345,\n",
    "    \"Name\": \"Test\",\n",
    "}\n",
    "mpc.add(body)\n",
    "mpc.write(\"test.dat\")"
   ]
  },
  {
   "cell_type": "markdown",
   "metadata": {},
   "source": []
  }
 ],
 "metadata": {
  "kernelspec": {
   "display_name": "mpcorbfile-4k_20HRF-py3.12",
   "language": "python",
   "name": "python3"
  },
  "language_info": {
   "codemirror_mode": {
    "name": "ipython",
    "version": 3
   },
   "file_extension": ".py",
   "mimetype": "text/x-python",
   "name": "python",
   "nbconvert_exporter": "python",
   "pygments_lexer": "ipython3",
   "version": "3.12.3"
  }
 },
 "nbformat": 4,
 "nbformat_minor": 2
}
