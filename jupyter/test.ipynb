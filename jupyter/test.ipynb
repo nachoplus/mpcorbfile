{
 "cells": [
  {
   "cell_type": "code",
   "execution_count": 1,
   "metadata": {},
   "outputs": [],
   "source": [
    "import mpcorbfile"
   ]
  },
  {
   "cell_type": "code",
   "execution_count": 2,
   "metadata": {},
   "outputs": [],
   "source": [
    "#Class to drive \n",
    "f=mpcorbfile.mpcorb_file()"
   ]
  },
  {
   "cell_type": "code",
   "execution_count": 3,
   "metadata": {},
   "outputs": [
    {
     "name": "stdout",
     "output_type": "stream",
     "text": [
      "J9611 1996-01-01 00:00:00\n",
      "J961A 1996-01-10 00:00:00\n",
      "J969U 1996-09-30 00:00:00\n",
      "J96A1 1996-10-01 00:00:00\n",
      "K01AM 2001-10-22 00:00:00\n"
     ]
    }
   ],
   "source": [
    "\"\"\"\n",
    "CALCULATE DATES FROM COMPRESSED EPOCH\n",
    "Examples:\n",
    "\n",
    "        1996 Jan. 1    = J9611\n",
    "        1996 Jan. 10   = J961A\n",
    "        1996 Sept.30   = J969U\n",
    "        1996 Oct. 1    = J96A1\n",
    "        2001 Oct. 22   = K01AM\n",
    "\n",
    "        This system can be extended to dates with non-integral days. The decimal fraction of the day is simply appended to the five characters defined above.\n",
    "\n",
    "        Examples:\n",
    "\n",
    "        1998 Jan. 18.73     = J981I73\n",
    "        2001 Oct. 22.138303 = K01AM138303\n",
    "\"\"\"        \n",
    "for p in ['J9611','J961A','J969U','J96A1','K01AM']:\n",
    "        print(p,f.compressed_epoch_to_datetime(p))"
   ]
  },
  {
   "cell_type": "code",
   "execution_count": 4,
   "metadata": {},
   "outputs": [],
   "source": [
    "#load MPCORB.DAT\n",
    "bodies=f.read('FIX_MPCORB.DAT')\n",
    "#bodies=f.read('MPCORB_TEST.DAT')"
   ]
  },
  {
   "cell_type": "code",
   "execution_count": 5,
   "metadata": {},
   "outputs": [
    {
     "data": {
      "text/plain": [
       "True"
      ]
     },
     "execution_count": 5,
     "metadata": {},
     "output_type": "execute_result"
    }
   ],
   "source": [
    "#Write new file\n",
    "f.write('new_mcorb.dat')"
   ]
  },
  {
   "cell_type": "code",
   "execution_count": 6,
   "metadata": {},
   "outputs": [
    {
     "ename": "IndexError",
     "evalue": "string index out of range",
     "output_type": "error",
     "traceback": [
      "\u001b[31m---------------------------------------------------------------------------\u001b[39m",
      "\u001b[31mIndexError\u001b[39m                                Traceback (most recent call last)",
      "\u001b[36mCell\u001b[39m\u001b[36m \u001b[39m\u001b[32mIn[6]\u001b[39m\u001b[32m, line 3\u001b[39m\n\u001b[32m      1\u001b[39m \u001b[38;5;66;03m#Convert float strings to float\u001b[39;00m\n\u001b[32m      2\u001b[39m \u001b[38;5;66;03m#convert compressed epoch to epoch\u001b[39;00m\n\u001b[32m----> \u001b[39m\u001b[32m3\u001b[39m \u001b[43mf\u001b[49m\u001b[43m.\u001b[49m\u001b[43mto_numeric\u001b[49m\u001b[43m(\u001b[49m\u001b[43m)\u001b[49m\n",
      "\u001b[36mFile \u001b[39m\u001b[32m~/mpcorbfile/jupyter/mpcorbfile.py:215\u001b[39m, in \u001b[36mmpcorb_file.to_numeric\u001b[39m\u001b[34m(self)\u001b[39m\n\u001b[32m    213\u001b[39m result=\u001b[38;5;28mlist\u001b[39m()\n\u001b[32m    214\u001b[39m \u001b[38;5;28;01mfor\u001b[39;00m body \u001b[38;5;129;01min\u001b[39;00m \u001b[38;5;28mself\u001b[39m.bodies:\n\u001b[32m--> \u001b[39m\u001b[32m215\u001b[39m         result.append(\u001b[38;5;28;43mself\u001b[39;49m\u001b[43m.\u001b[49m\u001b[43mbody_to_numeric\u001b[49m\u001b[43m(\u001b[49m\u001b[43mbody\u001b[49m\u001b[43m)\u001b[49m)\n\u001b[32m    216\u001b[39m \u001b[38;5;28;01mreturn\u001b[39;00m result\n",
      "\u001b[36mFile \u001b[39m\u001b[32m~/mpcorbfile/jupyter/mpcorbfile.py:205\u001b[39m, in \u001b[36mmpcorb_file.body_to_numeric\u001b[39m\u001b[34m(self, body)\u001b[39m\n\u001b[32m    203\u001b[39m         \u001b[38;5;28;01mexcept\u001b[39;00m \u001b[38;5;167;01mValueError\u001b[39;00m:\n\u001b[32m    204\u001b[39m             changed_values[k]=np.nan\n\u001b[32m--> \u001b[39m\u001b[32m205\u001b[39m changed_values[\u001b[33m'\u001b[39m\u001b[33mepoch\u001b[39m\u001b[33m'\u001b[39m]=\u001b[38;5;28;43mself\u001b[39;49m\u001b[43m.\u001b[49m\u001b[43mcompressed_epoch_to_datetime\u001b[49m\u001b[43m(\u001b[49m\u001b[43mbody\u001b[49m\u001b[43m[\u001b[49m\u001b[33;43m'\u001b[39;49m\u001b[33;43mcompressed_epoch\u001b[39;49m\u001b[33;43m'\u001b[39;49m\u001b[43m]\u001b[49m\u001b[43m)\u001b[49m\n\u001b[32m    206\u001b[39m body.update(changed_values)\n\u001b[32m    207\u001b[39m \u001b[38;5;28;01mreturn\u001b[39;00m body\n",
      "\u001b[36mFile \u001b[39m\u001b[32m~/mpcorbfile/jupyter/mpcorbfile.py:179\u001b[39m, in \u001b[36mmpcorb_file.compressed_epoch_to_datetime\u001b[39m\u001b[34m(self, compressed_epoch)\u001b[39m\n\u001b[32m    169\u001b[39m month_map = {\u001b[33m'\u001b[39m\u001b[33m1\u001b[39m\u001b[33m'\u001b[39m: \u001b[32m1\u001b[39m, \u001b[33m'\u001b[39m\u001b[33m2\u001b[39m\u001b[33m'\u001b[39m: \u001b[32m2\u001b[39m, \u001b[33m'\u001b[39m\u001b[33m3\u001b[39m\u001b[33m'\u001b[39m: \u001b[32m3\u001b[39m, \u001b[33m'\u001b[39m\u001b[33m4\u001b[39m\u001b[33m'\u001b[39m: \u001b[32m4\u001b[39m, \u001b[33m'\u001b[39m\u001b[33m5\u001b[39m\u001b[33m'\u001b[39m: \u001b[32m5\u001b[39m, \u001b[33m'\u001b[39m\u001b[33m6\u001b[39m\u001b[33m'\u001b[39m: \u001b[32m6\u001b[39m, \u001b[33m'\u001b[39m\u001b[33m7\u001b[39m\u001b[33m'\u001b[39m: \u001b[32m7\u001b[39m, \u001b[33m'\u001b[39m\u001b[33m8\u001b[39m\u001b[33m'\u001b[39m: \u001b[32m8\u001b[39m, \u001b[33m'\u001b[39m\u001b[33m9\u001b[39m\u001b[33m'\u001b[39m: \u001b[32m9\u001b[39m,\n\u001b[32m    170\u001b[39m         \u001b[33m'\u001b[39m\u001b[33mA\u001b[39m\u001b[33m'\u001b[39m: \u001b[32m10\u001b[39m, \u001b[33m'\u001b[39m\u001b[33mB\u001b[39m\u001b[33m'\u001b[39m: \u001b[32m11\u001b[39m, \u001b[33m'\u001b[39m\u001b[33mC\u001b[39m\u001b[33m'\u001b[39m: \u001b[32m12\u001b[39m}\n\u001b[32m    171\u001b[39m day_map={\n\u001b[32m    172\u001b[39m         \u001b[33m'\u001b[39m\u001b[33m1\u001b[39m\u001b[33m'\u001b[39m: \u001b[32m1\u001b[39m, \u001b[33m'\u001b[39m\u001b[33m2\u001b[39m\u001b[33m'\u001b[39m: \u001b[32m2\u001b[39m, \u001b[33m'\u001b[39m\u001b[33m3\u001b[39m\u001b[33m'\u001b[39m: \u001b[32m3\u001b[39m, \u001b[33m'\u001b[39m\u001b[33m4\u001b[39m\u001b[33m'\u001b[39m: \u001b[32m4\u001b[39m, \u001b[33m'\u001b[39m\u001b[33m5\u001b[39m\u001b[33m'\u001b[39m: \u001b[32m5\u001b[39m, \u001b[33m'\u001b[39m\u001b[33m6\u001b[39m\u001b[33m'\u001b[39m: \u001b[32m6\u001b[39m, \u001b[33m'\u001b[39m\u001b[33m7\u001b[39m\u001b[33m'\u001b[39m: \u001b[32m7\u001b[39m, \u001b[33m'\u001b[39m\u001b[33m8\u001b[39m\u001b[33m'\u001b[39m: \u001b[32m8\u001b[39m, \u001b[33m'\u001b[39m\u001b[33m9\u001b[39m\u001b[33m'\u001b[39m: \u001b[32m9\u001b[39m,\n\u001b[32m    173\u001b[39m         \u001b[33m'\u001b[39m\u001b[33mA\u001b[39m\u001b[33m'\u001b[39m: \u001b[32m10\u001b[39m, \u001b[33m'\u001b[39m\u001b[33mB\u001b[39m\u001b[33m'\u001b[39m: \u001b[32m11\u001b[39m, \u001b[33m'\u001b[39m\u001b[33mC\u001b[39m\u001b[33m'\u001b[39m: \u001b[32m12\u001b[39m,\u001b[33m'\u001b[39m\u001b[33mD\u001b[39m\u001b[33m'\u001b[39m: \u001b[32m13\u001b[39m, \u001b[33m'\u001b[39m\u001b[33mE\u001b[39m\u001b[33m'\u001b[39m: \u001b[32m14\u001b[39m, \u001b[33m'\u001b[39m\u001b[33mF\u001b[39m\u001b[33m'\u001b[39m: \u001b[32m15\u001b[39m,\n\u001b[32m   (...)\u001b[39m\u001b[32m    176\u001b[39m         \u001b[33m'\u001b[39m\u001b[33mS\u001b[39m\u001b[33m'\u001b[39m: \u001b[32m28\u001b[39m, \u001b[33m'\u001b[39m\u001b[33mT\u001b[39m\u001b[33m'\u001b[39m: \u001b[32m29\u001b[39m, \u001b[33m'\u001b[39m\u001b[33mU\u001b[39m\u001b[33m'\u001b[39m: \u001b[32m30\u001b[39m,\u001b[33m'\u001b[39m\u001b[33mV\u001b[39m\u001b[33m'\u001b[39m: \u001b[32m31\u001b[39m\n\u001b[32m    177\u001b[39m         }\n\u001b[32m--> \u001b[39m\u001b[32m179\u001b[39m year_letter_epoch = \u001b[43mcompressed_epoch\u001b[49m\u001b[43m[\u001b[49m\u001b[32;43m0\u001b[39;49m\u001b[43m]\u001b[49m\n\u001b[32m    180\u001b[39m month_epoch = compressed_epoch[\u001b[32m3\u001b[39m]\n\u001b[32m    181\u001b[39m day_epoch = compressed_epoch[\u001b[32m4\u001b[39m]\n",
      "\u001b[31mIndexError\u001b[39m: string index out of range"
     ]
    }
   ],
   "source": [
    "#Convert float strings to float\n",
    "#convert compressed epoch to epoch\n",
    "f.to_numeric()"
   ]
  },
  {
   "cell_type": "code",
   "execution_count": null,
   "metadata": {},
   "outputs": [],
   "source": []
  }
 ],
 "metadata": {
  "kernelspec": {
   "display_name": "venv",
   "language": "python",
   "name": "python3"
  },
  "language_info": {
   "codemirror_mode": {
    "name": "ipython",
    "version": 3
   },
   "file_extension": ".py",
   "mimetype": "text/x-python",
   "name": "python",
   "nbconvert_exporter": "python",
   "pygments_lexer": "ipython3",
   "version": "3.12.3"
  }
 },
 "nbformat": 4,
 "nbformat_minor": 2
}
