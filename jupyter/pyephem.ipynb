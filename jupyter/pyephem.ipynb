{
 "cells": [
  {
   "cell_type": "markdown",
   "metadata": {},
   "source": [
    "# Test mpcorbfile for use with pyephem"
   ]
  },
  {
   "cell_type": "code",
   "execution_count": 1,
   "metadata": {},
   "outputs": [],
   "source": [
    "import mpcorbfile\n",
    "import ephem"
   ]
  },
  {
   "cell_type": "code",
   "execution_count": 2,
   "metadata": {},
   "outputs": [
    {
     "name": "stderr",
     "output_type": "stream",
     "text": [
      "reading: 100%|\u001b[32m██████████\u001b[0m| 13.2k/13.2k [00:00<00:00, 135k bodies/s]\n"
     ]
    }
   ],
   "source": [
    "# Cargar el archivo MPCORB.DAT\n",
    "archivo_mpcorb = \"MPCORB_TEST.DAT\"\n",
    "f = mpcorbfile.mpcorb_file(archivo_mpcorb)"
   ]
  },
  {
   "cell_type": "code",
   "execution_count": 3,
   "metadata": {},
   "outputs": [
    {
     "data": {
      "text/plain": [
       "['packed_designation',\n",
       " 'H',\n",
       " 'G',\n",
       " 'Epoch',\n",
       " 'M',\n",
       " 'Peri',\n",
       " 'Node',\n",
       " 'i',\n",
       " 'e',\n",
       " 'n',\n",
       " 'a',\n",
       " 'U',\n",
       " 'Ref',\n",
       " 'Num_obs',\n",
       " 'Num_opps',\n",
       " 'Arc_length',\n",
       " 'rms',\n",
       " 'Perturbers',\n",
       " 'Perturbers_2',\n",
       " 'Computer',\n",
       " 'Hex_flags',\n",
       " 'Number',\n",
       " 'Name',\n",
       " 'Last_obs',\n",
       " 'epochJD',\n",
       " 'designation',\n",
       " 'discover_date',\n",
       " 'orbit_type']"
      ]
     },
     "execution_count": 3,
     "metadata": {},
     "output_type": "execute_result"
    }
   ],
   "source": [
    "f.colnames"
   ]
  },
  {
   "cell_type": "code",
   "execution_count": 4,
   "metadata": {},
   "outputs": [
    {
     "name": "stdout",
     "output_type": "stream",
     "text": [
      "1997 CW RA:5:01:24.14 DEC:26:35:45.8\n"
     ]
    }
   ],
   "source": [
    "eleptical_body = ephem.EllipticalBody()\n",
    "for body in f.bodies:\n",
    "    # calculate nowdays position\n",
    "    asteroid = mpcorbfile.set_elliptical_body_elements(\n",
    "        eleptical_body, body\n",
    "    )  # return the elliptical body\n",
    "    asteroid.compute(ephem.now())\n",
    "\n",
    "#print the last one\n",
    "print(f\"{body['Name']} RA:{asteroid.a_ra} DEC:{asteroid.a_dec}\")"
   ]
  },
  {
   "cell_type": "code",
   "execution_count": null,
   "metadata": {},
   "outputs": [
    {
     "data": {
      "text/plain": [
       "[<matplotlib.lines.Line2D at 0x76d0697dc920>]"
      ]
     },
     "execution_count": 5,
     "metadata": {},
     "output_type": "execute_result"
    },
    {
     "data": {
      "image/png": "[encoded data removed]",
      "text/plain": [
       "<Figure size 640x480 with 1 Axes>"
      ]
     },
     "metadata": {},
     "output_type": "display_data"
    }
   ],
   "source": [
    "#Some plot to be used as a cover in documentation\n",
    "import matplotlib.pyplot as plt\n",
    "plt.plot(asteroid.a_ra, asteroid.a_dec, 'ro')"
   ]
  },
  {
   "cell_type": "code",
   "execution_count": null,
   "metadata": {},
   "outputs": [],
   "source": []
  }
 ],
 "metadata": {
  "kernelspec": {
   "display_name": "mpcorbfile-4k_20HRF-py3.12",
   "language": "python",
   "name": "python3"
  },
  "language_info": {
   "codemirror_mode": {
    "name": "ipython",
    "version": 3
   },
   "file_extension": ".py",
   "mimetype": "text/x-python",
   "name": "python",
   "nbconvert_exporter": "python",
   "pygments_lexer": "ipython3",
   "version": "3.12.3"
  }
 },
 "nbformat": 4,
 "nbformat_minor": 2
}
