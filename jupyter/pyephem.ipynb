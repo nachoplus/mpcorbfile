{
 "cells": [
  {
   "cell_type": "markdown",
   "metadata": {},
   "source": [
    "# Test mpcorbfile for use with pyephem"
   ]
  },
  {
   "cell_type": "code",
   "execution_count": 1,
   "metadata": {},
   "outputs": [],
   "source": [
    "import mpcorbfile\n",
    "import ephem"
   ]
  },
  {
   "cell_type": "code",
   "execution_count": 2,
   "metadata": {},
   "outputs": [],
   "source": [
    "# Cargar el archivo MPCORB.DAT\n",
    "archivo_mpcorb = 'MPCORB_TEST.DAT'\n",
    "f = mpcorbfile.mpcorb_file(archivo_mpcorb)"
   ]
  },
  {
   "cell_type": "code",
   "execution_count": 3,
   "metadata": {},
   "outputs": [
    {
     "data": {
      "text/plain": [
       "['Principal_desig',\n",
       " 'G',\n",
       " 'H',\n",
       " 'a',\n",
       " 'e',\n",
       " 'i',\n",
       " 'n',\n",
       " 'Peri',\n",
       " 'Node',\n",
       " 'M',\n",
       " 'U',\n",
       " 'epoch',\n",
       " 'Reference',\n",
       " 'Num_obs',\n",
       " 'Num_opps',\n",
       " 'first_obs',\n",
       " 'last_obs',\n",
       " 'rms',\n",
       " 'Perturbers',\n",
       " 'Perturbers_2',\n",
       " 'Computer',\n",
       " 'Hex_flags',\n",
       " 'Number',\n",
       " 'name',\n",
       " 'Last_obs']"
      ]
     },
     "execution_count": 3,
     "metadata": {},
     "output_type": "execute_result"
    }
   ],
   "source": [
    "f.colnames"
   ]
  },
  {
   "cell_type": "code",
   "execution_count": 5,
   "metadata": {},
   "outputs": [
    {
     "name": "stdout",
     "output_type": "stream",
     "text": [
      "RA:18:46:44.93 DEC:-9:32:22.6\n"
     ]
    }
   ],
   "source": [
    "eleptical_body = ephem.EllipticalBody()\n",
    "#calculate nowdays position for the first asteroid\n",
    "asteroid=f.set_elliptical_body_elements(eleptical_body,f.to_numeric()[0])\n",
    "asteroid.compute(ephem.now())\n",
    "print(f'RA:{asteroid.a_ra} DEC:{asteroid.a_dec}')"
   ]
  },
  {
   "cell_type": "markdown",
   "metadata": {},
   "source": [
    "## Do in chunks for use multiprocessing\n",
    "\n",
    "TODO"
   ]
  }
 ],
 "metadata": {
  "kernelspec": {
   "display_name": "mpcorbfile-4k_20HRF-py3.12",
   "language": "python",
   "name": "python3"
  },
  "language_info": {
   "codemirror_mode": {
    "name": "ipython",
    "version": 3
   },
   "file_extension": ".py",
   "mimetype": "text/x-python",
   "name": "python",
   "nbconvert_exporter": "python",
   "pygments_lexer": "ipython3",
   "version": "3.12.3"
  }
 },
 "nbformat": 4,
 "nbformat_minor": 2
}
